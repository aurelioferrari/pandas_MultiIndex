{
  "nbformat": 4,
  "nbformat_minor": 0,
  "metadata": {
    "colab": {
      "provenance": []
    },
    "kernelspec": {
      "name": "python3",
      "display_name": "Python 3"
    },
    "language_info": {
      "name": "python"
    }
  },
  "cells": [
    {
      "cell_type": "code",
      "execution_count": 6,
      "metadata": {
        "id": "5HjM90q3JL_P"
      },
      "outputs": [],
      "source": [
        "import pandas as pd"
      ]
    },
    {
      "cell_type": "code",
      "source": [
        "arrays = [[1, 1, 2, 2], ['red', 'blue', 'red', 'blue']]"
      ],
      "metadata": {
        "id": "HafZvp7BKaXq"
      },
      "execution_count": 7,
      "outputs": []
    },
    {
      "cell_type": "code",
      "source": [
        "pd.MultiIndex.from_arrays(arrays, names=('number', 'color'))"
      ],
      "metadata": {
        "colab": {
          "base_uri": "https://localhost:8080/"
        },
        "id": "WQ6yg9rAKdXS",
        "outputId": "6d1a3837-7113-468e-9688-6c29ecd698ca"
      },
      "execution_count": 8,
      "outputs": [
        {
          "output_type": "execute_result",
          "data": {
            "text/plain": [
              "MultiIndex([(1,  'red'),\n",
              "            (1, 'blue'),\n",
              "            (2,  'red'),\n",
              "            (2, 'blue')],\n",
              "           names=['number', 'color'])"
            ]
          },
          "metadata": {},
          "execution_count": 8
        }
      ]
    },
    {
      "cell_type": "code",
      "source": [
        "numbers = [0, 1, 2]\n",
        "colors = ['green', 'purple']"
      ],
      "metadata": {
        "id": "HREtihOBKiqC"
      },
      "execution_count": 9,
      "outputs": []
    },
    {
      "cell_type": "code",
      "source": [
        "v = pd.MultiIndex.from_product([numbers, colors], names=['number', 'color'])"
      ],
      "metadata": {
        "id": "b28Rwdi_PU1b"
      },
      "execution_count": 11,
      "outputs": []
    },
    {
      "cell_type": "code",
      "source": [
        "v"
      ],
      "metadata": {
        "colab": {
          "base_uri": "https://localhost:8080/"
        },
        "id": "t5NCQdvtPji0",
        "outputId": "aab6d9d4-b7fc-4fb8-d96e-ab5d7a4e6e32"
      },
      "execution_count": 12,
      "outputs": [
        {
          "output_type": "execute_result",
          "data": {
            "text/plain": [
              "MultiIndex([(0,  'green'),\n",
              "            (0, 'purple'),\n",
              "            (1,  'green'),\n",
              "            (1, 'purple'),\n",
              "            (2,  'green'),\n",
              "            (2, 'purple')],\n",
              "           names=['number', 'color'])"
            ]
          },
          "metadata": {},
          "execution_count": 12
        }
      ]
    },
    {
      "cell_type": "code",
      "source": [],
      "metadata": {
        "id": "RTHjdhNlPmTq"
      },
      "execution_count": null,
      "outputs": []
    }
  ]
}